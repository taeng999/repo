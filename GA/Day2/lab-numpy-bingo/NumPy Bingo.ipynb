{
 "cells": [
  {
   "cell_type": "markdown",
   "metadata": {},
   "source": [
    "# Bingo\n",
    "\n",
    "For our NumPy lab, we're going to play bingo! Your goal for this lab is to write code that creates a bingo card (see the last cell). There are several numpy methods that will make your task easier. **We have not covered these methods in class**. Part of this exercise is learning to Google your way out of a problem.\n",
    "\n",
    "\n",
    "## Rules\n",
    "- The first column is a random set of 5 numbers from 1-15\n",
    "- The second column is a random set of 5 numbers from 16-30\n",
    "- The third column is a random set of 5 numbers from 31-45\n",
    "- The fourth column is a random set of 5 numbers from 46-60\n",
    "- The fifth column is a random set of 5 numbers from 61-75\n",
    "\n",
    "Your card is invalid if any of the numbers repeat\n",
    "\n",
    "## Hints\n",
    "You can click the arrows to reveal hints. **USE THESE AS A LAST RESORT**\n",
    "\n",
    "<details><summary>Hint 1: Creating the columns</summary>\n",
    "NumPy has a module called `random`, and in that module is a method for choosing a random set of numbers from a given array. This will be helpful in creating the columns. To make your life easier, create five variables: `b`, `i`, `n`, `g`, and `o`. Each of these will contain an array of 5 random numbers from their respective ranges.\n",
    "</details>\n",
    "\n",
    "<details><summary>Hint 2: Combining the columns into a matrix</summary>\n",
    "There's a numpy method for combing arrays into a matrix, with each array as the column. `np.array([b, i, n, g, o])` will give you a matrix, but it won't be in the correct row/column form\n",
    "</details>"
   ]
  },
  {
   "cell_type": "code",
   "execution_count": 1,
   "metadata": {
    "collapsed": true
   },
   "outputs": [],
   "source": [
    "import numpy as np"
   ]
  },
  {
   "cell_type": "code",
   "execution_count": 64,
   "metadata": {},
   "outputs": [],
   "source": [
    "#bingo = np.arange(np.random.rand(1,15),1)\n",
    "# first column\n",
    "b = np.random.randint(1,16,5)\n",
    "i = np.random.randint(16,31,5)\n",
    "n = np.random.randint(31,46,5)\n",
    "g = np.random.randint(46,61,5)\n",
    "o = np.random.randint(61,76,5)\n",
    "bingo_a = np.array([b,i,n,g,o])\n",
    "bingo = bingo_a.reshape(5,5)"
   ]
  },
  {
   "cell_type": "code",
   "execution_count": 50,
   "metadata": {},
   "outputs": [],
   "source": [
    "# Don't code here. The output below is for comparison"
   ]
  },
  {
   "cell_type": "code",
   "execution_count": 52,
   "metadata": {
    "collapsed": true
   },
   "outputs": [],
   "source": [
    "b = np.random.choice(range(1,16), size=5, replace=False)\n",
    "i = np.random.choice(range(16,31), size=5, replace=False)\n",
    "n = np.random.choice(range(31,46), size=5, replace=False)\n",
    "g = np.random.choice(range(46,61), size=5, replace=False)\n",
    "o = np.random.choice(range(61,76), size=5, replace=False)"
   ]
  },
  {
   "cell_type": "code",
   "execution_count": 53,
   "metadata": {
    "collapsed": true
   },
   "outputs": [],
   "source": [
    "card = np.array([b,i,n,g,o]).T"
   ]
  },
  {
   "cell_type": "code",
   "execution_count": 54,
   "metadata": {},
   "outputs": [
    {
     "data": {
      "text/plain": [
       "array([[15, 10, 14,  8,  7],\n",
       "       [28, 30, 25, 20, 21],\n",
       "       [41, 33, 32, 31, 43],\n",
       "       [47, 49, 53, 48, 50],\n",
       "       [71, 62, 67, 74, 72]])"
      ]
     },
     "execution_count": 54,
     "metadata": {},
     "output_type": "execute_result"
    }
   ],
   "source": [
    "card"
   ]
  },
  {
   "cell_type": "markdown",
   "metadata": {},
   "source": [
    "### bingo\n"
   ]
  },
  {
   "cell_type": "code",
   "execution_count": 76,
   "metadata": {},
   "outputs": [
    {
     "data": {
      "text/plain": [
       "array([[ 0.,  1.,  0.,  1.,  1.],\n",
       "       [ 1.,  0.,  0.,  1.,  1.],\n",
       "       [ 1.,  1.,  0.,  0.,  0.],\n",
       "       [ 1.,  0.,  1.,  1.,  1.],\n",
       "       [ 0.,  1.,  0.,  0.,  1.]])"
      ]
     },
     "execution_count": 76,
     "metadata": {},
     "output_type": "execute_result"
    }
   ],
   "source": [
    "dobber = np.ones((5,5))\n",
    "dobber[2][2] = 0\n",
    "dobber[2][3] = 0\n",
    "dobber[4][3] = 0\n",
    "dobber[4][0] = 0\n",
    "dobber[4][2] = 0\n",
    "dobber[3][1] = 0\n",
    "dobber[2][4] = 0\n",
    "dobber[0][2] = 0\n",
    "dobber[1][1] = 0\n",
    "dobber[1][2] = 0\n",
    "dobber[0][0] = 0\n",
    "dobber"
   ]
  },
  {
   "cell_type": "code",
   "execution_count": null,
   "metadata": {
    "collapsed": true
   },
   "outputs": [],
   "source": []
  }
 ],
 "metadata": {
  "anaconda-cloud": {},
  "kernelspec": {
   "display_name": "Python 3",
   "language": "python",
   "name": "python3"
  },
  "language_info": {
   "codemirror_mode": {
    "name": "ipython",
    "version": 3
   },
   "file_extension": ".py",
   "mimetype": "text/x-python",
   "name": "python",
   "nbconvert_exporter": "python",
   "pygments_lexer": "ipython3",
   "version": "3.6.3"
  }
 },
 "nbformat": 4,
 "nbformat_minor": 1
}
