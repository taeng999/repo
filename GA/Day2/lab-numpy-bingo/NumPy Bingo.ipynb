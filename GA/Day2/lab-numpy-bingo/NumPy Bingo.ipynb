{
 "cells": [
  {
   "cell_type": "markdown",
   "metadata": {},
   "source": [
    "# Bingo\n",
    "\n",
    "For our NumPy lab, we're going to play bingo! Your goal for this lab is to write code that creates a bingo card (see the last cell). There are several numpy methods that will make your task easier. **We have not covered these methods in class**. Part of this exercise is learning to Google your way out of a problem.\n",
    "\n",
    "\n",
    "## Rules\n",
    "- The first column is a random set of 5 numbers from 1-15\n",
    "- The second column is a random set of 5 numbers from 16-30\n",
    "- The third column is a random set of 5 numbers from 31-45\n",
    "- The fourth column is a random set of 5 numbers from 46-60\n",
    "- The fifth column is a random set of 5 numbers from 61-75\n",
    "\n",
    "Your card is invalid if any of the numbers repeat\n",
    "\n",
    "## Hints\n",
    "You can click the arrows to reveal hints. **USE THESE AS A LAST RESORT**\n",
    "\n",
    "<details><summary>Hint 1: Creating the columns</summary>\n",
    "NumPy has a module called `random`, and in that module is a method for choosing a random set of numbers from a given array. This will be helpful in creating the columns. To make your life easier, create five variables: `b`, `i`, `n`, `g`, and `o`. Each of these will contain an array of 5 random numbers from their respective ranges.\n",
    "</details>\n",
    "\n",
    "<details><summary>Hint 2: Combining the columns into a matrix</summary>\n",
    "There's a numpy method for combing arrays into a matrix, with each array as the column. `np.array([b, i, n, g, o])` will give you a matrix, but it won't be in the correct row/column form\n",
    "</details>"
   ]
  },
  {
   "cell_type": "code",
   "execution_count": 1,
   "metadata": {
    "collapsed": true
   },
   "outputs": [],
   "source": [
    "import numpy as np"
   ]
  },
  {
   "cell_type": "code",
   "execution_count": 48,
   "metadata": {},
   "outputs": [],
   "source": [
    "#bingo = np.arange(np.random.rand(1,15),1)\n",
    "# first column\n",
    "b = np.random.randint(1,16,5)\n",
    "i = np.random.randint(16,31,5)\n",
    "n = np.random.randint(31,46,5)\n",
    "g = np.random.randint(46,61,5)\n",
    "o = np.random.randint(61,76,5)\n",
    "bingo_a = np.array([b,i,n,g,o])\n",
    "bingo = bingo_a.reshape(5,5)"
   ]
  },
  {
   "cell_type": "code",
   "execution_count": 49,
   "metadata": {},
   "outputs": [
    {
     "data": {
      "text/plain": [
       "array([[ 4,  6,  1,  2, 11],\n",
       "       [25, 21, 30, 20, 16],\n",
       "       [39, 45, 40, 35, 40],\n",
       "       [46, 50, 57, 49, 47],\n",
       "       [65, 65, 62, 63, 71]])"
      ]
     },
     "execution_count": 49,
     "metadata": {},
     "output_type": "execute_result"
    }
   ],
   "source": [
    "bingo\n"
   ]
  },
  {
   "cell_type": "code",
   "execution_count": 50,
   "metadata": {},
   "outputs": [],
   "source": [
    "# Don't code here. The output below is for comparison"
   ]
  },
  {
   "cell_type": "code",
   "execution_count": null,
   "metadata": {
    "collapsed": true
   },
   "outputs": [],
   "source": []
  }
 ],
 "metadata": {
  "anaconda-cloud": {},
  "kernelspec": {
   "display_name": "Python 3",
   "language": "python",
   "name": "python3"
  },
  "language_info": {
   "codemirror_mode": {
    "name": "ipython",
    "version": 3
   },
   "file_extension": ".py",
   "mimetype": "text/x-python",
   "name": "python",
   "nbconvert_exporter": "python",
   "pygments_lexer": "ipython3",
   "version": "3.6.3"
  }
 },
 "nbformat": 4,
 "nbformat_minor": 1
}
